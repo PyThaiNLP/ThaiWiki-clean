{
 "cells": [
  {
   "cell_type": "code",
   "execution_count": 2,
   "metadata": {},
   "outputs": [
    {
     "name": "stdout",
     "output_type": "stream",
     "text": [
      "  % Total    % Received % Xferd  Average Speed   Time    Time     Time  Current\n",
      "                                 Dload  Upload   Total   Spent    Left  Speed\n",
      "100  288M  100  288M    0     0  3545k      0  0:01:23  0:01:23 --:--:-- 4800k\n"
     ]
    }
   ],
   "source": [
    "!curl -L -O https://dumps.wikimedia.org/thwiki/20210620/thwiki-20210620-pages-articles.xml.bz2"
   ]
  },
  {
   "cell_type": "code",
   "execution_count": 3,
   "metadata": {},
   "outputs": [
    {
     "name": "stdout",
     "output_type": "stream",
     "text": [
      "Collecting wikiextractor\n",
      "  Downloading wikiextractor-3.0.4-py3-none-any.whl (46 kB)\n",
      "\u001b[K     |████████████████████████████████| 46 kB 1.1 MB/s eta 0:00:011\n",
      "\u001b[?25hInstalling collected packages: wikiextractor\n",
      "Successfully installed wikiextractor-3.0.4\n",
      "\u001b[33mWARNING: You are using pip version 20.2.4; however, version 21.1.3 is available.\n",
      "You should consider upgrading via the '/usr/bin/python3 -m pip install --upgrade pip' command.\u001b[0m\n"
     ]
    }
   ],
   "source": [
    "!pip install wikiextractor"
   ]
  },
  {
   "cell_type": "code",
   "execution_count": 11,
   "metadata": {},
   "outputs": [
    {
     "name": "stdout",
     "output_type": "stream",
     "text": [
      "INFO: Starting page extraction from thwiki-20210620-pages-articles.xml.bz2.\n",
      "INFO: Using 8 extract processes.\n",
      "INFO: Extracted 100000 articles (847.2 art/s)\n",
      "INFO: Extracted 200000 articles (1162.6 art/s)\n",
      "INFO: Extracted 300000 articles (1273.5 art/s)\n",
      "INFO: Finished 8-process extraction of 315469 articles in 294.0s (1072.9 art/s)\n"
     ]
    }
   ],
   "source": [
    "!python -m wikiextractor.WikiExtractor -o wiki-20210620/ --no-templates --processes 8 thwiki-20210620-pages-articles.xml.bz2"
   ]
  },
  {
   "cell_type": "code",
   "execution_count": 12,
   "metadata": {},
   "outputs": [],
   "source": [
    "import glob\n",
    "list_wiki = glob.glob(\"./wiki-20210620/*/wiki_*\")"
   ]
  },
  {
   "cell_type": "code",
   "execution_count": 13,
   "metadata": {},
   "outputs": [
    {
     "data": {
      "text/plain": [
       "615"
      ]
     },
     "execution_count": 13,
     "metadata": {},
     "output_type": "execute_result"
    }
   ],
   "source": [
    "len(list_wiki)"
   ]
  },
  {
   "cell_type": "code",
   "execution_count": 26,
   "metadata": {},
   "outputs": [],
   "source": [
    "def merge_file(text):\n",
    "    list_a = [i for i in text.splitlines() if not i.startswith('<doc id=\"') and i!=\"\\n\" and i!=\"</doc>\" and i!='']\n",
    "    return list_a"
   ]
  },
  {
   "cell_type": "code",
   "execution_count": 28,
   "metadata": {},
   "outputs": [],
   "source": [
    "list_wiki_data = []\n",
    "for file in list_wiki:\n",
    "    with open(file,'r',encoding='utf-8-sig') as f:\n",
    "        list_wiki_data+=merge_file(f.read())"
   ]
  },
  {
   "cell_type": "code",
   "execution_count": 29,
   "metadata": {},
   "outputs": [
    {
     "data": {
      "text/plain": [
       "1311984"
      ]
     },
     "execution_count": 29,
     "metadata": {},
     "output_type": "execute_result"
    }
   ],
   "source": [
    "len(list_wiki_data)"
   ]
  },
  {
   "cell_type": "code",
   "execution_count": 31,
   "metadata": {},
   "outputs": [],
   "source": [
    "with open('wiki_20210620.txt', 'w',encoding='utf-8') as f:\n",
    "    f.write('\\n'.join(list_wiki_data))"
   ]
  },
  {
   "cell_type": "code",
   "execution_count": null,
   "metadata": {},
   "outputs": [],
   "source": []
  }
 ],
 "metadata": {
  "kernelspec": {
   "display_name": "Python 3",
   "language": "python",
   "name": "python3"
  },
  "language_info": {
   "codemirror_mode": {
    "name": "ipython",
    "version": 3
   },
   "file_extension": ".py",
   "mimetype": "text/x-python",
   "name": "python",
   "nbconvert_exporter": "python",
   "pygments_lexer": "ipython3",
   "version": "3.6.9"
  }
 },
 "nbformat": 4,
 "nbformat_minor": 2
}
