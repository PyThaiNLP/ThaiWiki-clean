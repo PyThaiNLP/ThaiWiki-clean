{
 "cells": [
  {
   "cell_type": "code",
   "execution_count": 1,
   "metadata": {},
   "outputs": [
    {
     "name": "stdout",
     "output_type": "stream",
     "text": [
      "  % Total    % Received % Xferd  Average Speed   Time    Time     Time  Current\n",
      "                                 Dload  Upload   Total   Spent    Left  Speed\n",
      "100  339M  100  339M    0     0  3336k      0  0:01:44  0:01:44 --:--:-- 3267k\n"
     ]
    }
   ],
   "source": [
    "!curl -L -O https://dumps.wikimedia.org/thwiki/20230101/thwiki-20230101-pages-articles.xml.bz2"
   ]
  },
  {
   "cell_type": "code",
   "execution_count": 9,
   "metadata": {},
   "outputs": [
    {
     "name": "stdout",
     "output_type": "stream",
     "text": [
      "Collecting wikiextractor\n",
      "  Downloading wikiextractor-3.0.6-py3-none-any.whl (46 kB)\n",
      "\u001b[2K     \u001b[90m━━━━━━━━━━━━━━━━━━━━━━━━━━━━━━━━━━━━━━━━\u001b[0m \u001b[32m46.4/46.4 kB\u001b[0m \u001b[31m20.6 MB/s\u001b[0m eta \u001b[36m0:00:00\u001b[0m\n",
      "\u001b[?25h\u001b[33mWARNING: Error parsing requirements for requests: [Errno 2] No such file or directory: '/opt/conda/lib/python3.8/site-packages/requests-2.28.1.dist-info/METADATA'\u001b[0m\u001b[33m\n",
      "\u001b[0m\u001b[33mWARNING: Error parsing requirements for idna: [Errno 2] No such file or directory: '/opt/conda/lib/python3.8/site-packages/idna-3.4.dist-info/METADATA'\u001b[0m\u001b[33m\n",
      "\u001b[0mInstalling collected packages: wikiextractor\n",
      "Successfully installed wikiextractor-3.0.6\n",
      "\u001b[33mWARNING: Running pip as the 'root' user can result in broken permissions and conflicting behaviour with the system package manager. It is recommended to use a virtual environment instead: https://pip.pypa.io/warnings/venv\u001b[0m\u001b[33m\n",
      "\u001b[0m"
     ]
    }
   ],
   "source": [
    "!pip install wikiextractor"
   ]
  },
  {
   "cell_type": "code",
   "execution_count": 5,
   "metadata": {},
   "outputs": [
    {
     "name": "stdout",
     "output_type": "stream",
     "text": [
      "Traceback (most recent call last):\n",
      "  File \"/workspace/nel/wikiextractor/wikiextractor/WikiExtractor.py\", line 66, in <module>\n",
      "    from .extract import Extractor, ignoreTag, define_template, acceptedNamespaces\n",
      "ImportError: attempted relative import with no known parent package\n"
     ]
    }
   ],
   "source": [
    "# !python /workspace/nel/wikiextractor/wikiextractor/WikiExtractor.py"
   ]
  },
  {
   "cell_type": "code",
   "execution_count": null,
   "metadata": {},
   "outputs": [],
   "source": [
    "!python -m wikiextractor.WikiExtractor -o wiki-20230101-2/ --no-templates --links --processes 30 thwiki-20230101-pages-articles.xml"
   ]
  },
  {
   "cell_type": "code",
   "execution_count": 4,
   "metadata": {},
   "outputs": [],
   "source": [
    "import glob\n",
    "list_wiki = glob.glob(\"./wiki-20230101/*/wiki_*\")"
   ]
  },
  {
   "cell_type": "code",
   "execution_count": 5,
   "metadata": {},
   "outputs": [
    {
     "data": {
      "text/plain": [
       "691"
      ]
     },
     "execution_count": 5,
     "metadata": {},
     "output_type": "execute_result"
    }
   ],
   "source": [
    "len(list_wiki)"
   ]
  },
  {
   "cell_type": "code",
   "execution_count": 12,
   "metadata": {},
   "outputs": [],
   "source": [
    "def merge_file(text):\n",
    "    list_a = [i.replace(\"()\",\"\") for i in text.splitlines() if not i.startswith('<doc id=\"') and i!=\"\\n\" and i!=\"</doc>\" and i!='']\n",
    "    return list_a"
   ]
  },
  {
   "cell_type": "code",
   "execution_count": null,
   "metadata": {},
   "outputs": [],
   "source": [
    "def merge_file2(text):\n",
    "    list_a = [i.replace(\"()\",\"\") for i in text.splitlines() if not i.startswith('<doc id=\"') and i!=\"\\n\" and i!=\"</doc>\" and i!='']\n",
    "    return list_a"
   ]
  },
  {
   "cell_type": "code",
   "execution_count": 13,
   "metadata": {},
   "outputs": [],
   "source": [
    "list_wiki_data = []\n",
    "for file in list_wiki:\n",
    "    with open(file,'r',encoding='utf-8-sig') as f:\n",
    "        list_wiki_data+=merge_file(f.read())"
   ]
  },
  {
   "cell_type": "code",
   "execution_count": 14,
   "metadata": {},
   "outputs": [
    {
     "data": {
      "text/plain": [
       "1436054"
      ]
     },
     "execution_count": 14,
     "metadata": {},
     "output_type": "execute_result"
    }
   ],
   "source": [
    "len(list_wiki_data)"
   ]
  },
  {
   "cell_type": "code",
   "execution_count": 15,
   "metadata": {},
   "outputs": [],
   "source": [
    "with open('wiki_20230101.txt', 'w',encoding='utf-8') as f:\n",
    "    f.write('\\n'.join(list_wiki_data))"
   ]
  },
  {
   "cell_type": "code",
   "execution_count": 16,
   "metadata": {},
   "outputs": [
    {
     "data": {
      "text/plain": [
       "'พาร์สลีย์  เป็นพืชดอกในวงศ์ผักชี (Apiaceae) มีถิ่นกำเนิดในภูมิภาคเมดิเตอร์เรเนียนตอนกลางและตะวันออก (ซาร์ดิเนีย เลบานอน อิสราเอล ไซปรัส ตุรกี อิตาลีตอนใต้ กรีซ โปรตุเกส สเปน มอลตา โมร็อกโก แอลจีเรีย และตูนิเซีย) แต่ได้มีการทำพืชให้เคยชินกับท้องถิ่นที่อื่นในยุโรปและนิยมปลูกเป็นสมุนไพรและผัก'"
      ]
     },
     "execution_count": 16,
     "metadata": {},
     "output_type": "execute_result"
    }
   ],
   "source": [
    "list_wiki_data[1]"
   ]
  },
  {
   "cell_type": "code",
   "execution_count": null,
   "metadata": {},
   "outputs": [],
   "source": [
    "raw_list_wiki_data = []\n",
    "for file in list_wiki:\n",
    "    with open(file,'r',encoding='utf-8-sig') as f:\n",
    "        raw_list_wiki_data+=merge_file(f.read())"
   ]
  }
 ],
 "metadata": {
  "kernelspec": {
   "display_name": "Python 3 (ipykernel)",
   "language": "python",
   "name": "python3"
  },
  "language_info": {
   "codemirror_mode": {
    "name": "ipython",
    "version": 3
   },
   "file_extension": ".py",
   "mimetype": "text/x-python",
   "name": "python",
   "nbconvert_exporter": "python",
   "pygments_lexer": "ipython3",
   "version": "3.8.10"
  }
 },
 "nbformat": 4,
 "nbformat_minor": 4
}
